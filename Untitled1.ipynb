{
  "nbformat": 4,
  "nbformat_minor": 0,
  "metadata": {
    "colab": {
      "name": "Untitled1.ipynb",
      "provenance": [],
      "authorship_tag": "ABX9TyOTX9zKj0dU/qQ84OTPywqb",
      "include_colab_link": true
    },
    "kernelspec": {
      "name": "python3",
      "display_name": "Python 3"
    },
    "language_info": {
      "name": "python"
    }
  },
  "cells": [
    {
      "cell_type": "markdown",
      "metadata": {
        "id": "view-in-github",
        "colab_type": "text"
      },
      "source": [
        "<a href=\"https://colab.research.google.com/github/azadmanesh92/EthicalHacking/blob/main/Untitled1.ipynb\" target=\"_parent\"><img src=\"https://colab.research.google.com/assets/colab-badge.svg\" alt=\"Open In Colab\"/></a>"
      ]
    },
    {
      "cell_type": "markdown",
      "source": [
        "This is an ethical password hacking practice.  - Mahsa"
      ],
      "metadata": {
        "id": "kUwynk7EWSf7"
      }
    },
    {
      "cell_type": "code",
      "source": [
        "flag = 0"
      ],
      "metadata": {
        "id": "hPo_oLd_TWfG"
      },
      "execution_count": 4,
      "outputs": []
    },
    {
      "cell_type": "code",
      "execution_count": 5,
      "metadata": {
        "id": "j1nwLNffDCy7"
      },
      "outputs": [],
      "source": [
        "import hashlib"
      ]
    },
    {
      "cell_type": "code",
      "source": [
        "pass_hash = input('Enter md5 hash: ') \n",
        "wordlist = input(\"file name: \")"
      ],
      "metadata": {
        "colab": {
          "base_uri": "https://localhost:8080/"
        },
        "id": "AihSV4bRDdo7",
        "outputId": "83eba1f9-20cd-40f1-d26e-ca6ed5bbc1a7"
      },
      "execution_count": 1,
      "outputs": [
        {
          "name": "stdout",
          "output_type": "stream",
          "text": [
            "Enter md5 hash: 81dc9bdb52d04dc20036dbd8313ed055\n",
            "file name: /Users/mahsaazadmanesh/Downloads/xato-net-10-million-passwords-1000000.txt\n"
          ]
        }
      ]
    },
    {
      "cell_type": "markdown",
      "source": [
        "Let's open the dictionary of probable passwords:"
      ],
      "metadata": {
        "id": "-D9Yfy1eEBr-"
      }
    },
    {
      "cell_type": "code",
      "source": [
        "try:\n",
        "  pass_file = open (wordlist,\"r\")\n",
        "except:\n",
        "  print(\"No file found\")           #trying to open the file that contains that dict\n",
        "  quit()"
      ],
      "metadata": {
        "colab": {
          "base_uri": "https://localhost:8080/"
        },
        "id": "DBUGabHJEHyU",
        "outputId": "5d0da6b1-55e3-4904-e360-52a978ff9cfb"
      },
      "execution_count": 7,
      "outputs": [
        {
          "output_type": "stream",
          "name": "stdout",
          "text": [
            "No file found\n"
          ]
        }
      ]
    },
    {
      "cell_type": "markdown",
      "source": [
        "encode a word from dict into encoded format:"
      ],
      "metadata": {
        "id": "xPYh6rv5QP_o"
      }
    },
    {
      "cell_type": "code",
      "source": [
        "for word in pass_file:\n",
        "  enc_wrd=word.encode(\"utf-8\")\n",
        "  # hash to hex format:\n",
        "  digest = hashlib.md5(enc_wrd.strip()).hexdigest() #word to md5 format & strip it from white spaces (strip func) + ...\n",
        "  # ... hexadecimal format (hexdigest inbuilt lib)\n",
        "\n",
        "  # Now we want to compare our hash with input hashes\n",
        "  if digest == pass_hash:\n",
        "    print(\"password has been found\")\n",
        "    print(\"password is \" + word)\n",
        "    flag = 1\n",
        "    break\n"
      ],
      "metadata": {
        "colab": {
          "base_uri": "https://localhost:8080/",
          "height": 232
        },
        "id": "JQZurkFXP1UX",
        "outputId": "21b62dec-9233-4bbc-85ea-554e2d774b6d"
      },
      "execution_count": 8,
      "outputs": [
        {
          "output_type": "error",
          "ename": "NameError",
          "evalue": "ignored",
          "traceback": [
            "\u001b[0;31m---------------------------------------------------------------------------\u001b[0m",
            "\u001b[0;31mNameError\u001b[0m                                 Traceback (most recent call last)",
            "\u001b[0;32m<ipython-input-8-487e439a1e43>\u001b[0m in \u001b[0;36m<module>\u001b[0;34m()\u001b[0m\n\u001b[0;32m----> 1\u001b[0;31m \u001b[0;32mfor\u001b[0m \u001b[0mword\u001b[0m \u001b[0;32min\u001b[0m \u001b[0mpass_file\u001b[0m\u001b[0;34m:\u001b[0m\u001b[0;34m\u001b[0m\u001b[0;34m\u001b[0m\u001b[0m\n\u001b[0m\u001b[1;32m      2\u001b[0m   \u001b[0menc_wrd\u001b[0m\u001b[0;34m=\u001b[0m\u001b[0mword\u001b[0m\u001b[0;34m.\u001b[0m\u001b[0mencode\u001b[0m\u001b[0;34m(\u001b[0m\u001b[0;34m\"utf-8\"\u001b[0m\u001b[0;34m)\u001b[0m\u001b[0;34m\u001b[0m\u001b[0;34m\u001b[0m\u001b[0m\n\u001b[1;32m      3\u001b[0m   \u001b[0;31m# hash to hex format:\u001b[0m\u001b[0;34m\u001b[0m\u001b[0;34m\u001b[0m\u001b[0;34m\u001b[0m\u001b[0m\n\u001b[1;32m      4\u001b[0m   \u001b[0mdigest\u001b[0m \u001b[0;34m=\u001b[0m \u001b[0mhashlib\u001b[0m\u001b[0;34m.\u001b[0m\u001b[0mmd5\u001b[0m\u001b[0;34m(\u001b[0m\u001b[0menc_wrd\u001b[0m\u001b[0;34m.\u001b[0m\u001b[0mstrip\u001b[0m\u001b[0;34m(\u001b[0m\u001b[0;34m)\u001b[0m\u001b[0;34m)\u001b[0m\u001b[0;34m.\u001b[0m\u001b[0mhexdigest\u001b[0m\u001b[0;34m(\u001b[0m\u001b[0;34m)\u001b[0m \u001b[0;31m#word to md5 format & strip it from white spaces (strip func) + ...\u001b[0m\u001b[0;34m\u001b[0m\u001b[0;34m\u001b[0m\u001b[0m\n\u001b[1;32m      5\u001b[0m   \u001b[0;31m# ... hexadecimal format (hexdigest inbuilt lib)\u001b[0m\u001b[0;34m\u001b[0m\u001b[0;34m\u001b[0m\u001b[0;34m\u001b[0m\u001b[0m\n",
            "\u001b[0;31mNameError\u001b[0m: name 'pass_file' is not defined"
          ]
        }
      ]
    },
    {
      "cell_type": "markdown",
      "source": [
        "If the pass is not in the dict: flag == 0\n"
      ],
      "metadata": {
        "id": "UGgNCfEQSYaq"
      }
    },
    {
      "cell_type": "code",
      "source": [
        "if flag == 0:\n",
        "  print(\"pass is not in the list\")"
      ],
      "metadata": {
        "id": "B2MpIwNwSa0g"
      },
      "execution_count": null,
      "outputs": []
    },
    {
      "cell_type": "markdown",
      "source": [
        "Well there you go!"
      ],
      "metadata": {
        "id": "IYPklErdXpid"
      }
    }
  ]
}